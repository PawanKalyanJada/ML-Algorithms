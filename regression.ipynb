{
 "cells": [
  {
   "cell_type": "code",
   "execution_count": 1,
   "metadata": {},
   "outputs": [],
   "source": [
    "#import sklearn as sk\n",
    "import numpy as np\n",
    "import pandas as pd\n",
    "from sklearn.datasets import load_boston "
   ]
  },
  {
   "cell_type": "code",
   "execution_count": 2,
   "metadata": {},
   "outputs": [],
   "source": [
    "df=load_boston()\n",
    "x=df.data\n",
    "y=df.target"
   ]
  },
  {
   "cell_type": "code",
   "execution_count": 3,
   "metadata": {},
   "outputs": [],
   "source": [
    "class LinearRegression:\n",
    "    def fit(self,x,y):\n",
    "        o=np.ones(x.shape[0]).reshape(-1,1)\n",
    "        x=np.concatenate((o,x),axis=1)\n",
    "        self.c=[0]*(x.shape[1])\n",
    "        self.cost=[]\n",
    "        a=0.01\n",
    "        m=len(y)\n",
    "        for _ in range(1000):\n",
    "            pred=x.dot(self.c)\n",
    "            loss=pred-y\n",
    "            self.c-=(a/m)*(x.T.dot(loss))\n",
    "            self.cost.append(self.calc(loss,m))\n",
    "            \n",
    "    def predict(self,x):\n",
    "        o=np.ones(x.shape[0]).reshape(-1,1)\n",
    "        x=np.concatenate((o,x),axis=1)\n",
    "        l=[]\n",
    "        for i in range(len(x)):\n",
    "            l.append(x[i].dot(self.c))\n",
    "        return np.array(l)\n",
    "    \n",
    "    def calc(self,loss,m):\n",
    "        a=loss**2\n",
    "        return ((1/(2*m))*a.sum())"
   ]
  },
  {
   "cell_type": "code",
   "execution_count": 4,
   "metadata": {},
   "outputs": [],
   "source": [
    "from sklearn.preprocessing import StandardScaler\n",
    "s=StandardScaler()\n",
    "x=s.fit_transform(x)"
   ]
  },
  {
   "cell_type": "code",
   "execution_count": 6,
   "metadata": {},
   "outputs": [],
   "source": [
    "l=LinearRegression()\n",
    "l.fit(x,y)"
   ]
  },
  {
   "cell_type": "code",
   "execution_count": 7,
   "metadata": {
    "scrolled": true
   },
   "outputs": [],
   "source": [
    "y1=l.predict(x)"
   ]
  },
  {
   "cell_type": "code",
   "execution_count": 8,
   "metadata": {},
   "outputs": [
    {
     "data": {
      "text/plain": [
       "0.7374489019429902"
      ]
     },
     "execution_count": 8,
     "metadata": {},
     "output_type": "execute_result"
    }
   ],
   "source": [
    "from sklearn.metrics import r2_score\n",
    "r2_score(y,y1)"
   ]
  },
  {
   "cell_type": "code",
   "execution_count": null,
   "metadata": {},
   "outputs": [],
   "source": []
  }
 ],
 "metadata": {
  "kernelspec": {
   "display_name": "Python 3",
   "language": "python",
   "name": "python3"
  },
  "language_info": {
   "codemirror_mode": {
    "name": "ipython",
    "version": 3
   },
   "file_extension": ".py",
   "mimetype": "text/x-python",
   "name": "python",
   "nbconvert_exporter": "python",
   "pygments_lexer": "ipython3",
   "version": "3.8.5"
  }
 },
 "nbformat": 4,
 "nbformat_minor": 4
}
